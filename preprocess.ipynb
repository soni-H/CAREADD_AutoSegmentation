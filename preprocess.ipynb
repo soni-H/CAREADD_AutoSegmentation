{
 "cells": [
  {
   "cell_type": "code",
   "execution_count": 35,
   "metadata": {},
   "outputs": [],
   "source": [
    "import os\n",
    "import h5py\n",
    "import argparse\n",
    "import numpy as np\n",
    "from os import listdir\n",
    "import cv2\n",
    "\n",
    "\n",
    "def convert_file(input_dir, filename, output_dir):\n",
    "    filepath = input_dir + '/' + filename\n",
    "    img = cv2.imread(filepath)\n",
    "    #img = cv2.resize(img, (224, 224), interpolation=cv2.INTER_CUBIC)\n",
    "    img = cv2.cvtColor(img, cv2.COLOR_BGR2RGB)\n",
    "    new_filepath = output_dir + '/' + filename[:-4] + '.h5'\n",
    "    f = h5py.File(new_filepath,'w')\n",
    "    #dt = h5py.special_dtype(vlen=np.dtype('uint8'))\n",
    "    dset = f.create_dataset(filename, (100, 1080, 1920, 3), dtype=np.dtype('uint8'))\n",
    "    dset[0] = img#[None]\n",
    "\n",
    "\n",
    "def convert_dir(dir_name, cat):\n",
    "    input_file_folder = '/home/user/Harshita/Frames/'+cat+'/'+dir_name\n",
    "    output_file_folder='/home/user/Harshita/Frames/HD5_Files/'+cat+'/'+dir_name\n",
    "    if not os.path.exists(output_file_folder):\n",
    "        os.makedirs(output_file_folder)\n",
    "    for filename in os.listdir(input_file_folder):\n",
    "        if filename[-4:] == '.jpg':\n",
    "            convert_file(input_file_folder, filename, output_file_folder)"
   ]
  },
  {
   "cell_type": "code",
   "execution_count": 36,
   "metadata": {},
   "outputs": [],
   "source": [
    "# DD_folders = [f for f in listdir('/home/user/Harshita/Frames/ASD') ]\n",
    "# for dir_name in DD_folders:\n",
    "#     convert_dir(dir_name,'ASD')"
   ]
  },
  {
   "cell_type": "code",
   "execution_count": 37,
   "metadata": {},
   "outputs": [],
   "source": [
    "# import h5py\n",
    "# import numpy as np\n",
    "# from PIL import Image\n",
    "# filename = '21_02_03_01_DD_Ch1_20210203112600_frame_43.jpg'\n",
    "# hdf = h5py.File(\"/home/user/Harshita/Frames/HD5_Files/DD/21_02_03_01_DD/21_02_03_01_DD_Ch1_20210203112600_frame_43.h5\",'r')\n",
    "# print(hdf.keys())\n",
    "# array = hdf[filename][:][0]\n",
    "\n",
    "# print(array.shape)\n",
    "# img = Image.fromarray(array.astype('uint8'), 'RGB')\n",
    "# print(filename[:-3])\n",
    "# img.save(filename, \"PNG\")\n",
    "# img.show()"
   ]
  },
  {
   "cell_type": "markdown",
   "metadata": {},
   "source": [
    "### Filtering Training images that have annotations"
   ]
  },
  {
   "cell_type": "code",
   "execution_count": 38,
   "metadata": {},
   "outputs": [],
   "source": [
    "from torch_snippets import *\n",
    "from PIL import Image\n",
    "import xml.etree.ElementTree as ET\n",
    "from typing import Dict, List\n",
    "from tqdm import tqdm\n",
    "import re\n",
    "import pandas as pd\n",
    "import os\n",
    "import shutil\n",
    "\n",
    "    \n"
   ]
  },
  {
   "cell_type": "code",
   "execution_count": 70,
   "metadata": {},
   "outputs": [],
   "source": [
    "def parse_xml_file(objects,filename,invalid_cnt):\n",
    "    ann_tree = ET.parse(filename)       #'../Annotations/DD/VOC XML/21_01_25_01_DD/21_01_25_01_DD_Ch1_20210125154231_frame_123.xml'\n",
    "    ann_root = ann_tree.getroot()\n",
    "    #objects=[]\n",
    "    size_obj=ann_root.find('size')\n",
    "    height=float(size_obj.findtext('height'))\n",
    "    width=float(size_obj.findtext('width'))\n",
    "    \n",
    "    for obj in ann_root.findall('object'):\n",
    "        bb={}\n",
    "        bb['imageID']=ann_root.findtext('filename')[:-4]\n",
    "        bb['LabelName']=obj.findtext('name')\n",
    "        bb_obj=obj.find('bndbox')\n",
    "        if (int(bb_obj.findtext('xmin')) >= int(bb_obj.findtext('xmax'))) or (int(bb_obj.findtext('ymin')) >= int(bb_obj.findtext('ymax'))):\n",
    "            print('Invalid count')\n",
    "            #continue\n",
    "        bb['XMin']=(int(bb_obj.findtext('xmin')))/width\n",
    "        bb['XMax']=(int(bb_obj.findtext('xmax'))+1)/width\n",
    "\n",
    "        bb['YMin']=(int(bb_obj.findtext('ymin')))/height\n",
    "        bb['YMax']=(int(bb_obj.findtext('ymax'))+1)/height\n",
    "        bb['Confidence']=1\n",
    "        \n",
    "        objects.append(bb)\n"
   ]
  },
  {
   "cell_type": "code",
   "execution_count": 71,
   "metadata": {},
   "outputs": [
    {
     "data": {
      "text/html": [
       "<pre style=\"white-space:pre;overflow-x:auto;line-height:normal;font-family:Menlo,'DejaVu Sans Mono',consolas,'Courier New',monospace\">Invalid count\n",
       "</pre>\n"
      ],
      "text/plain": [
       "Invalid count\n"
      ]
     },
     "metadata": {},
     "output_type": "display_data"
    },
    {
     "data": {
      "text/html": [
       "<pre style=\"white-space:pre;overflow-x:auto;line-height:normal;font-family:Menlo,'DejaVu Sans Mono',consolas,'Courier New',monospace\">Invalid count\n",
       "</pre>\n"
      ],
      "text/plain": [
       "Invalid count\n"
      ]
     },
     "metadata": {},
     "output_type": "display_data"
    },
    {
     "data": {
      "text/html": [
       "<pre style=\"white-space:pre;overflow-x:auto;line-height:normal;font-family:Menlo,'DejaVu Sans Mono',consolas,'Courier New',monospace\">Invalid count\n",
       "</pre>\n"
      ],
      "text/plain": [
       "Invalid count\n"
      ]
     },
     "metadata": {},
     "output_type": "display_data"
    },
    {
     "data": {
      "text/html": [
       "<pre style=\"white-space:pre;overflow-x:auto;line-height:normal;font-family:Menlo,'DejaVu Sans Mono',consolas,'Courier New',monospace\"><span style=\"color: #008080; text-decoration-color: #008080; font-weight: bold\">0</span>\n",
       "</pre>\n"
      ],
      "text/plain": [
       "\u001b[1;36m0\u001b[0m\n"
      ]
     },
     "metadata": {},
     "output_type": "display_data"
    }
   ],
   "source": [
    "list_of_folders=['../Annotations/DD/VOC XML/','../Annotations/TD/VOC XML/']\n",
    "objects=[]\n",
    "invalid_cnt=0\n",
    "for folder in list_of_folders:\n",
    "    videos=[f for f in os.listdir(folder) if os.path.isdir(os.path.join(folder,f))]\n",
    "    for video in videos:\n",
    "        full_path=os.path.join(folder,video)\n",
    "        files = [os.path.join(full_path,f) for f in os.listdir(full_path)]\n",
    "        for f in files:\n",
    "            parse_xml_file(objects,f,invalid_cnt)\n",
    "\n",
    "print(invalid_cnt)"
   ]
  },
  {
   "cell_type": "code",
   "execution_count": 72,
   "metadata": {},
   "outputs": [
    {
     "data": {
      "text/html": [
       "<pre style=\"white-space:pre;overflow-x:auto;line-height:normal;font-family:Menlo,'DejaVu Sans Mono',consolas,'Courier New',monospace\"><span style=\"color: #008080; text-decoration-color: #008080; font-weight: bold\">1353</span>\n",
       "</pre>\n"
      ],
      "text/plain": [
       "\u001b[1;36m1353\u001b[0m\n"
      ]
     },
     "metadata": {},
     "output_type": "display_data"
    },
    {
     "data": {
      "text/html": [
       "<pre style=\"white-space:pre;overflow-x:auto;line-height:normal;font-family:Menlo,'DejaVu Sans Mono',consolas,'Courier New',monospace\"><span style=\"color: #008080; text-decoration-color: #008080; font-weight: bold\">1353</span>\n",
       "</pre>\n"
      ],
      "text/plain": [
       "\u001b[1;36m1353\u001b[0m\n"
      ]
     },
     "metadata": {},
     "output_type": "display_data"
    }
   ],
   "source": [
    "\n",
    "df=pd.DataFrame(objects)\n",
    "print(len(df))\n",
    "#df.drop(df[df['YMin']>=df['YMax']].index, inplace=True)\n",
    "#df.drop(df[df['XMin']>=df['XMax']].index, inplace=True)\n",
    "df.to_csv('df.csv')\n",
    "print(len(df))"
   ]
  },
  {
   "cell_type": "code",
   "execution_count": 73,
   "metadata": {},
   "outputs": [],
   "source": [
    "\n",
    "# list_of_folders=['../Frames/DD/','../Frames/TD/']\n",
    "# objects=[]\n",
    "# for folder in list_of_folders:\n",
    "#     videos=[os.path.join(folder,f) for f in os.listdir(folder) if os.path.isdir(os.path.join(folder,f))]\n",
    "#     for video in videos:\n",
    "#         for f in os.listdir(video):\n",
    "#             shutil.copy2(os.path.join(video,f),'../Frames/Training Frames/')\n"
   ]
  },
  {
   "cell_type": "code",
   "execution_count": 74,
   "metadata": {},
   "outputs": [],
   "source": [
    "df['Area']=(df['XMax']-df['XMin'])*(df['YMax']-df['YMin'])"
   ]
  },
  {
   "attachments": {},
   "cell_type": "markdown",
   "metadata": {},
   "source": [
    "### Remove BBs where xmin>=xmax or yMin>=YMax"
   ]
  },
  {
   "cell_type": "code",
   "execution_count": 75,
   "metadata": {},
   "outputs": [
    {
     "data": {
      "text/html": [
       "<pre style=\"white-space:pre;overflow-x:auto;line-height:normal;font-family:Menlo,'DejaVu Sans Mono',consolas,'Courier New',monospace\">Empty DataFrame\n",
       "Columns: <span style=\"font-weight: bold\">[</span>imageID, LabelName, XMin, XMax, YMin, YMax, Confidence, Area<span style=\"font-weight: bold\">]</span>\n",
       "Index: <span style=\"font-weight: bold\">[]</span>\n",
       "</pre>\n"
      ],
      "text/plain": [
       "Empty DataFrame\n",
       "Columns: \u001b[1m[\u001b[0mimageID, LabelName, XMin, XMax, YMin, YMax, Confidence, Area\u001b[1m]\u001b[0m\n",
       "Index: \u001b[1m[\u001b[0m\u001b[1m]\u001b[0m\n"
      ]
     },
     "metadata": {},
     "output_type": "display_data"
    },
    {
     "data": {
      "text/html": [
       "<pre style=\"white-space:pre;overflow-x:auto;line-height:normal;font-family:Menlo,'DejaVu Sans Mono',consolas,'Courier New',monospace\">Empty DataFrame\n",
       "Columns: <span style=\"font-weight: bold\">[</span>imageID, LabelName, XMin, XMax, YMin, YMax, Confidence, Area<span style=\"font-weight: bold\">]</span>\n",
       "Index: <span style=\"font-weight: bold\">[]</span>\n",
       "</pre>\n"
      ],
      "text/plain": [
       "Empty DataFrame\n",
       "Columns: \u001b[1m[\u001b[0mimageID, LabelName, XMin, XMax, YMin, YMax, Confidence, Area\u001b[1m]\u001b[0m\n",
       "Index: \u001b[1m[\u001b[0m\u001b[1m]\u001b[0m\n"
      ]
     },
     "metadata": {},
     "output_type": "display_data"
    }
   ],
   "source": [
    "print(df[df['XMin']>=df['XMax']])\n",
    "print(df[df['YMin']>=df['YMax']])"
   ]
  },
  {
   "cell_type": "code",
   "execution_count": 76,
   "metadata": {},
   "outputs": [
    {
     "data": {
      "text/html": [
       "<div>\n",
       "<style scoped>\n",
       "    .dataframe tbody tr th:only-of-type {\n",
       "        vertical-align: middle;\n",
       "    }\n",
       "\n",
       "    .dataframe tbody tr th {\n",
       "        vertical-align: top;\n",
       "    }\n",
       "\n",
       "    .dataframe thead th {\n",
       "        text-align: right;\n",
       "    }\n",
       "</style>\n",
       "<table border=\"1\" class=\"dataframe\">\n",
       "  <thead>\n",
       "    <tr style=\"text-align: right;\">\n",
       "      <th></th>\n",
       "      <th>imageID</th>\n",
       "      <th>LabelName</th>\n",
       "      <th>XMin</th>\n",
       "      <th>XMax</th>\n",
       "      <th>YMin</th>\n",
       "      <th>YMax</th>\n",
       "      <th>Confidence</th>\n",
       "      <th>Area</th>\n",
       "    </tr>\n",
       "  </thead>\n",
       "  <tbody>\n",
       "  </tbody>\n",
       "</table>\n",
       "</div>"
      ],
      "text/plain": [
       "Empty DataFrame\n",
       "Columns: [imageID, LabelName, XMin, XMax, YMin, YMax, Confidence, Area]\n",
       "Index: []"
      ]
     },
     "execution_count": 76,
     "metadata": {},
     "output_type": "execute_result"
    }
   ],
   "source": [
    "df[df['Area']<=0]"
   ]
  },
  {
   "cell_type": "code",
   "execution_count": 77,
   "metadata": {},
   "outputs": [],
   "source": [
    "df.drop(df[df['Area']<=0].index,inplace=True)"
   ]
  },
  {
   "cell_type": "code",
   "execution_count": 78,
   "metadata": {},
   "outputs": [],
   "source": [
    "df.to_csv('df.csv')"
   ]
  },
  {
   "cell_type": "code",
   "execution_count": null,
   "metadata": {},
   "outputs": [],
   "source": []
  }
 ],
 "metadata": {
  "kernelspec": {
   "display_name": "harshita_env",
   "language": "python",
   "name": "python3"
  },
  "language_info": {
   "codemirror_mode": {
    "name": "ipython",
    "version": 3
   },
   "file_extension": ".py",
   "mimetype": "text/x-python",
   "name": "python",
   "nbconvert_exporter": "python",
   "pygments_lexer": "ipython3",
   "version": "3.7.2"
  },
  "orig_nbformat": 4,
  "vscode": {
   "interpreter": {
    "hash": "4e61e7fe543cc6d18eee35dce4ead42335a72256924fb4e2c19863fda50da177"
   }
  }
 },
 "nbformat": 4,
 "nbformat_minor": 2
}
