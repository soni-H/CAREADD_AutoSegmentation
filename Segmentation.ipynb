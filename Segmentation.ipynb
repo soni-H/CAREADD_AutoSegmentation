{
 "cells": [
  {
   "cell_type": "code",
   "execution_count": 1,
   "metadata": {},
   "outputs": [
    {
     "name": "stderr",
     "output_type": "stream",
     "text": [
      "/home/user/anaconda3/envs/harshita_env/lib/python3.7/site-packages/tqdm/auto.py:22: TqdmWarning: IProgress not found. Please update jupyter and ipywidgets. See https://ipywidgets.readthedocs.io/en/stable/user_install.html\n",
      "  from .autonotebook import tqdm as notebook_tqdm\n"
     ]
    }
   ],
   "source": [
    "import cv2 as cv\n",
    "import torch\n",
    "import numpy as np\n",
    "from tqdm import tqdm\n",
    "import datetime"
   ]
  },
  {
   "cell_type": "code",
   "execution_count": 2,
   "metadata": {},
   "outputs": [],
   "source": [
    "def preprocess_image(orig_image):\n",
    "    #orig_image=cv.imread(orig_image_path)\n",
    "    img = cv.cvtColor(orig_image, cv.COLOR_BGR2RGB).astype(np.float32)\n",
    "\n",
    "    img=cv.resize(img,(224,224))\n",
    "    img=img/255.0\n",
    "\n",
    "    img = torch.tensor(img).permute(2,0,1)\n",
    "    img=img.float()\n",
    "    return img"
   ]
  },
  {
   "cell_type": "code",
   "execution_count": 98,
   "metadata": {},
   "outputs": [],
   "source": [
    "video_file_paths=['/home/user/Jeba/CAREADD_PLAYvideos/recordings/Annotated_New/TD group/21_01_13_01_TD/Ch1_20210113120050.mp4',\n",
    "'/home/user/Jeba/CAREADD_PLAYvideos/recordings/Annotated_New/TD group/21_01_13_01_TD/Ch1_20210113121804.mp4']\n",
    "\n",
    "frame_skip=60\n",
    "i=0\n",
    "frame_count=0\n",
    "test_images=[]\n",
    "for video_file_path in video_file_paths:\n",
    "    cam = cv.VideoCapture(video_file_path)\n",
    "    cam.get(cv.CAP_PROP_FPS)\n",
    "    \n",
    "    while(True):\n",
    "                \n",
    "                # reading from frame\n",
    "                ret,frame = cam.read()\n",
    "                #print(ret)\n",
    "                if ret:\n",
    "                    # if video is still left continue creating images\n",
    "                    \n",
    "                    if i > frame_skip - 1:\n",
    "                        frame_count += 1\n",
    "                        #print(video_file+'\\n'+video_file[:-3])\n",
    "                        #name = './Test_Results/Video Results/'+video_file_name.split('/')[-1][:-4] +'_frame_'+ str(frame_count)+'.jpg'\n",
    "                        #print(name)\n",
    "                        #cv.imwrite(name, frame)\n",
    "                        #print('Done')\n",
    "                        test_images.append(preprocess_image(frame))\n",
    "                        i = 0\n",
    "                        continue\n",
    "                    i += 1\n",
    "                    \n",
    "                else:\n",
    "                    break\n",
    "        \n",
    "        # Release all space and windows once done\n",
    "    cam.release()\n",
    "    cv.destroyAllWindows()\n"
   ]
  },
  {
   "cell_type": "code",
   "execution_count": 99,
   "metadata": {},
   "outputs": [
    {
     "data": {
      "text/plain": [
       "859"
      ]
     },
     "execution_count": 99,
     "metadata": {},
     "output_type": "execute_result"
    }
   ],
   "source": [
    "len(test_images)"
   ]
  },
  {
   "cell_type": "code",
   "execution_count": 100,
   "metadata": {},
   "outputs": [],
   "source": [
    "import torchvision\n",
    "from torchvision.models.detection.faster_rcnn import FastRCNNPredictor\n",
    "from torchvision.ops import nms\n",
    "\n",
    "device = 'cuda' if torch.cuda.is_available() else 'cpu'\n",
    "\n",
    "def get_model():\n",
    "    model = torchvision.models.detection.fasterrcnn_resnet50_fpn(pretrained=True)\n",
    "    in_features = model.roi_heads.box_predictor.cls_score.in_features\n",
    "    model.roi_heads.box_predictor = FastRCNNPredictor(in_features, num_classes)\n",
    "    return model\n",
    "\n",
    "\n",
    "def decode_output(output):\n",
    "    'convert tensors to numpy arrays'\n",
    "    bbs = output['boxes'].cpu().detach().numpy().astype(np.uint16)\n",
    "    labels = np.array([target2label[i] for i in output['labels'].cpu().detach().numpy()])\n",
    "    confs = output['scores'].cpu().detach().numpy()\n",
    "    ixs = nms(torch.tensor(bbs.astype(np.float32)), torch.tensor(confs), 0.05)\n",
    "    bbs, confs, labels = [tensor[ixs] for tensor in [bbs, confs, labels]]\n",
    "\n",
    "    if len(ixs) == 1:\n",
    "        bbs, confs, labels = [np.array([tensor]) for tensor in [bbs, confs, labels]]\n",
    "    return bbs.tolist(), confs.tolist(), labels.tolist()\n",
    "\n",
    "\n",
    "def collect_results(chunks,model):\n",
    "    all_bbs=[]\n",
    "    all_confs=[]\n",
    "    all_labels=[]\n",
    "    for chunk in tqdm(chunks):\n",
    "        outputs=model(chunk)\n",
    "        \n",
    "        for output in outputs:\n",
    "            bbs,confs,labels=decode_output(output)\n",
    "            temp_bbs=[]\n",
    "            temp_confs=[]\n",
    "            temp_labels=[]\n",
    "            for b,c,l in zip(bbs,confs,labels):\n",
    "                if c>=0.4:\n",
    "                    temp_bbs.append(b)\n",
    "                    temp_confs.append(c)\n",
    "                    temp_labels.append(l)\n",
    "            all_bbs.append(temp_bbs)\n",
    "            all_confs.append(temp_confs)\n",
    "            all_labels.append(temp_labels)\n",
    "    return all_bbs,all_confs,all_labels"
   ]
  },
  {
   "cell_type": "code",
   "execution_count": 101,
   "metadata": {},
   "outputs": [],
   "source": [
    "label2target={\n",
    "    'BLOCKS': 1,\n",
    "    'RATTLE': 2,\n",
    "    'BALL': 3,\n",
    "    'BANANA': 4,\n",
    "    'TOYANIMAL': 5,\n",
    "    'DOLL': 6,\n",
    "    'CAR': 7,\n",
    "    'BELL': 8,\n",
    "    'STICKS': 9,\n",
    "    'TOYPHONE': 10,\n",
    "    'SOFTTOY': 11,\n",
    "    'background': 0\n",
    "}\n",
    "\n",
    "target2label={\n",
    "    1: 'BLOCKS',\n",
    "    2: 'RATTLE',\n",
    "    3: 'BALL',\n",
    "    4: 'BANANA',\n",
    "    5: 'TOYANIMAL',\n",
    "    6: 'DOLL',\n",
    "    7: 'CAR',\n",
    "    8: 'BELL',\n",
    "    9: 'STICKS',\n",
    "    10: 'TOYPHONE',\n",
    "    11: 'SOFTTOY',\n",
    "    0: 'background'\n",
    "}\n",
    "\n",
    "background_class = label2target['background']\n",
    "num_classes = len(label2target)"
   ]
  },
  {
   "cell_type": "code",
   "execution_count": 102,
   "metadata": {},
   "outputs": [
    {
     "name": "stderr",
     "output_type": "stream",
     "text": [
      "100%|██████████| 108/108 [16:04<00:00,  8.93s/it]\n"
     ]
    }
   ],
   "source": [
    "model= get_model()\n",
    "model.load_state_dict(torch.load('Faster_RCNN_Trained_1500'))\n",
    "model.eval()\n",
    "chunks = [test_images[x:x+8] for x in range(0, len(test_images), 8)]\n",
    "all_bbs,all_confs,all_labels=collect_results(chunks,model)"
   ]
  },
  {
   "cell_type": "code",
   "execution_count": 21,
   "metadata": {},
   "outputs": [],
   "source": [
    "import pickle\n",
    "with open(\"Results_Objects/all_labels_40.pickle\", 'wb') as outp:\n",
    "        pickle.dump(all_labels, outp, pickle.HIGHEST_PROTOCOL)\n",
    "\n",
    "with open(\"Results_Objects/all_confs_40.pickle\", 'wb') as outp:\n",
    "        pickle.dump(all_confs, outp, pickle.HIGHEST_PROTOCOL)\n",
    "\n",
    "with open(\"Results_Objects/all_bbs_40.pickle\", 'wb') as outp: \n",
    "        pickle.dump(all_bbs, outp, pickle.HIGHEST_PROTOCOL)\n",
    "\n",
    "\n",
    "# with open(PIK, \"rb\") as f:\n",
    "#     print pickle.load(f)"
   ]
  },
  {
   "cell_type": "code",
   "execution_count": 92,
   "metadata": {},
   "outputs": [
    {
     "name": "stdout",
     "output_type": "stream",
     "text": [
      "Inside Idle\n",
      "Inside TOYANIMAL 113\n",
      "113 ['RATTLE', 'BALL', 'BLOCKS', 'TOYANIMAL']\n",
      "Inside loop 114 ['BALL', 'RATTLE', 'BLOCKS', 'BLOCKS', 'BLOCKS']\n",
      "Inside loop 115 ['RATTLE', 'BALL', 'BLOCKS', 'BLOCKS']\n",
      "2\n",
      "TOYANIMAL done!\n",
      "Inside BALL 129\n",
      "Inside FP1 171\n",
      "Inside RATTLE 230\n",
      "231 ['BLOCKS', 'BLOCKS']\n",
      "Inside RATTLE 231\n",
      "Inside FP1 260\n",
      "Inside BALL 297\n",
      "Inside FP1 298\n",
      "299 ['BALL']\n",
      "300 ['BALL']\n",
      "FP1 done!\n",
      "Inside BALL 312\n",
      "Inside BALL 346\n",
      "Inside BALL 349\n",
      "351 ['RATTLE']\n",
      "Inside BALL 351\n",
      "Inside BALL 358\n",
      "359 ['RATTLE']\n",
      "360 ['RATTLE']\n",
      "BALL done!\n",
      "Inside RATTLE 367\n",
      "369 ['BLOCKS', 'BLOCKS', 'BLOCKS', 'BLOCKS']\n",
      "Inside RATTLE 369\n",
      "370 ['BLOCKS', 'BLOCKS', 'BLOCKS', 'BLOCKS']\n",
      "371 ['BLOCKS', 'BLOCKS', 'BLOCKS']\n",
      "RATTLE done!\n",
      "Inside BLOCKS 415\n",
      "417 ['BANANA']\n",
      "Inside BLOCKS 417\n",
      "419 ['BANANA']\n",
      "Inside BLOCKS 419\n",
      "420 ['BANANA']\n",
      "Inside BLOCKS 420\n",
      "Inside BLOCKS 423\n",
      "425 ['BANANA']\n",
      "Inside BLOCKS 425\n",
      "426 ['BANANA']\n",
      "427 ['BANANA']\n",
      "BLOCKS done!\n",
      "Inside BANANA 443\n",
      "444 ['TOYANIMAL']\n",
      "BANANA done!\n"
     ]
    }
   ],
   "source": [
    "threshold=2\n",
    "threshold_toyanimal=1\n",
    "threshold_fp2=15\n",
    "results={}\n",
    "for t,label_conf in enumerate(zip(all_labels,all_confs)):\n",
    "    if ('Idle' not in results.keys()) and ('BALL' in label_conf[0] or 'RATTLE' in label_conf[0] or 'BLOCKS' in label_conf[0]):\n",
    "            print('Inside Idle')\n",
    "            results['Idle']=str(datetime.timedelta(seconds=t*(60/29.9)))\n",
    "            continue\n",
    "    #print(t,label_conf)\n",
    "    if ('FP1' not in results.keys()) and ('BALL' in label_conf[0] and len(label_conf[0])==1):\n",
    "            print('Inside FP1 '+str(t))\n",
    "            temp=0\n",
    "            for i in range(threshold):\n",
    "                if t+i+1 < len(all_labels) and 'BALL' in all_labels[t+i+1] and len(all_labels[t+i+1])==1:\n",
    "                    print(t+i+1,all_labels[t+i+1])\n",
    "                    temp=temp+1\n",
    "            if temp==threshold:\n",
    "                results['FP1']=str(datetime.timedelta(seconds=t*(60/29.9)))\n",
    "                print('FP1 done!')\n",
    "                continue\n",
    "    if ('BALL' not in results.keys()) and ('RATTLE' in label_conf[0] and len(label_conf[0])==1):\n",
    "            print('Inside BALL '+str(t))\n",
    "            temp=0\n",
    "            for i in range(threshold):\n",
    "                if t+i+1 < len(all_labels) and 'RATTLE' in all_labels[t+i+1] and len(all_labels[t+i+1])==1:\n",
    "                    print(t+i+1,all_labels[t+i+1])\n",
    "                    temp=temp+1\n",
    "            if temp==threshold:\n",
    "                results['BALL']=str(datetime.timedelta(seconds=t*(60/29.9)))\n",
    "                print('BALL done!')\n",
    "                continue\n",
    "    if ('RATTLE' not in results.keys()) and ('BLOCKS' in label_conf[0] and len(set(label_conf[0]))==1):\n",
    "            print('Inside RATTLE '+str(t))\n",
    "            temp=0\n",
    "            for i in range(threshold):\n",
    "                if t+i+1 < len(all_labels) and 'BLOCKS' in all_labels[t+i+1] and len(set(all_labels[t+i+1]))==1:\n",
    "                    print(t+i+1,all_labels[t+i+1])\n",
    "                    temp=temp+1\n",
    "            if temp==threshold:\n",
    "                results['RATTLE']=str(datetime.timedelta(seconds=t*(60/29.9)))\n",
    "                print('RATTLE done!')\n",
    "                continue\n",
    "    if ('BLOCKS' not in results.keys()) and ('BANANA' in label_conf[0] and len(label_conf[0])==1):\n",
    "            print('Inside BLOCKS '+str(t))\n",
    "            temp=0\n",
    "            for i in range(threshold):\n",
    "                if t+i+1 < len(all_labels) and 'BANANA' in all_labels[t+i+1] and len(all_labels[t+i+1])==1:\n",
    "                    print(t+i+1,all_labels[t+i+1])\n",
    "                    temp=temp+1\n",
    "            if temp==threshold:\n",
    "                results['BLOCKS']=str(datetime.timedelta(seconds=t*(60/29.9)))\n",
    "                print('BLOCKS done!')\n",
    "                continue\n",
    "    if ('BANANA' not in results.keys()) and ('TOYANIMAL' in label_conf[0] and len(label_conf[0])==1):\n",
    "            print('Inside BANANA '+str(t))\n",
    "            temp=0\n",
    "            for i in range(threshold_toyanimal):\n",
    "                if t+i+1 < len(all_labels) and 'TOYANIMAL' in all_labels[t+i+1] and len(all_labels[t+i+1])==1:\n",
    "                    print(t+i+1,all_labels[t+i+1])\n",
    "                    temp=temp+1\n",
    "            if temp==threshold_toyanimal:\n",
    "                results['BANANA']=str(datetime.timedelta(seconds=t*(60/29.9)))\n",
    "                print('BANANA done!')\n",
    "                continue\n",
    "\n",
    "    if ('TOYANIMAL' not in results.keys()) and (('BALL' in label_conf[0] or 'RATTLE' in label_conf[0]) and 'BLOCKS' in label_conf[0] and ('BANANA' in label_conf[0] or 'TOYANIMAL' in label_conf[0])):\n",
    "            print('Inside TOYANIMAL '+str(t))\n",
    "            print(t,all_labels[t])\n",
    "            temp=0\n",
    "            for i in range(threshold):\n",
    "                if t+i+1 < len(all_labels) and (('BALL' in label_conf[0] or 'RATTLE' in label_conf[0]) and 'BLOCKS' in label_conf[0] and ('BANANA' in label_conf[0] or 'TOYANIMAL' in label_conf[0])):\n",
    "                    print('Inside loop',t+i+1,all_labels[t+i+1])\n",
    "                    temp=temp+1\n",
    "            print(temp)\n",
    "            if temp==threshold:\n",
    "                results['TOYANIMAL']=str(datetime.timedelta(seconds=t*(60/29.9)))\n",
    "                print('TOYANIMAL done!')\n",
    "                continue\n",
    "            "
   ]
  },
  {
   "cell_type": "code",
   "execution_count": 93,
   "metadata": {},
   "outputs": [
    {
     "data": {
      "text/plain": [
       "{'Idle': '0:03:42.742475',\n",
       " 'TOYANIMAL': '0:03:46.755853',\n",
       " 'FP1': '0:09:57.993311',\n",
       " 'BALL': '0:11:58.394649',\n",
       " 'RATTLE': '0:12:20.468227',\n",
       " 'BLOCKS': '0:14:12.842809',\n",
       " 'BANANA': '0:14:48.963211'}"
      ]
     },
     "execution_count": 93,
     "metadata": {},
     "output_type": "execute_result"
    }
   ],
   "source": [
    "results"
   ]
  },
  {
   "cell_type": "code",
   "execution_count": null,
   "metadata": {},
   "outputs": [],
   "source": []
  },
  {
   "cell_type": "code",
   "execution_count": null,
   "metadata": {},
   "outputs": [],
   "source": []
  }
 ],
 "metadata": {
  "kernelspec": {
   "display_name": "harshita_env",
   "language": "python",
   "name": "python3"
  },
  "language_info": {
   "codemirror_mode": {
    "name": "ipython",
    "version": 3
   },
   "file_extension": ".py",
   "mimetype": "text/x-python",
   "name": "python",
   "nbconvert_exporter": "python",
   "pygments_lexer": "ipython3",
   "version": "3.7.2"
  },
  "orig_nbformat": 4,
  "vscode": {
   "interpreter": {
    "hash": "4e61e7fe543cc6d18eee35dce4ead42335a72256924fb4e2c19863fda50da177"
   }
  }
 },
 "nbformat": 4,
 "nbformat_minor": 2
}
